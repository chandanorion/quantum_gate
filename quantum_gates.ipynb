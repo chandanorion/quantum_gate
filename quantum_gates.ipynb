{
 "cells": [
  {
   "cell_type": "code",
   "execution_count": 4,
   "id": "78e1fd86",
   "metadata": {},
   "outputs": [],
   "source": [
    "from qiskit import QuantumCircuit, Aer, QuantumRegister, ClassicalRegister, execute\n",
    "import numpy as np\n",
    "from qiskit.visualization import visualize_transition\n",
    "\n",
    "import math"
   ]
  },
  {
   "cell_type": "code",
   "execution_count": 5,
   "id": "b9456050",
   "metadata": {},
   "outputs": [
    {
     "data": {
      "text/plain": [
       "<qiskit.circuit.instructionset.InstructionSet at 0x1168c4550>"
      ]
     },
     "execution_count": 5,
     "metadata": {},
     "output_type": "execute_result"
    }
   ],
   "source": [
    "q_ckt = QuantumCircuit(1,1)\n",
    "\n",
    "# X gate\n",
    "q_ckt.x(0)\n",
    "\n",
    "# hadamad gate\n",
    "q_ckt.h(0)\n",
    "\n",
    "#y gate\n",
    "q_ckt.y(0)\n",
    "\n",
    "#z gate\n",
    "q_ckt.z(0)\n",
    "\n",
    "#s gate \n",
    "q_ckt.s(0)"
   ]
  },
  {
   "cell_type": "code",
   "execution_count": null,
   "id": "72f4769f",
   "metadata": {},
   "outputs": [],
   "source": [
    "visualize_transition(circuit = q_ckt)\n"
   ]
  },
  {
   "cell_type": "code",
   "execution_count": 6,
   "id": "3e7518e2",
   "metadata": {},
   "outputs": [
    {
     "data": {
      "text/plain": [
       "<qiskit.circuit.instructionset.InstructionSet at 0x1168c4e80>"
      ]
     },
     "execution_count": 6,
     "metadata": {},
     "output_type": "execute_result"
    }
   ],
   "source": [
    "#s gate \n",
    "q_ckt.s(0)\n",
    "\n",
    "# Rx gate\n",
    "q_ckt.rx(math.pi/3, 0)\n",
    "\n",
    "\n",
    "#Ry gate \n",
    "q_ckt.ry(math.pi/8, 0)\n",
    "\n",
    "# Rz gate\n",
    "q_ckt.rz(math.pi/6, 0)"
   ]
  },
  {
   "cell_type": "code",
   "execution_count": null,
   "id": "3d84df48",
   "metadata": {},
   "outputs": [],
   "source": [
    "\n",
    "\n",
    "\n"
   ]
  },
  {
   "cell_type": "code",
   "execution_count": 7,
   "id": "488aa6f7",
   "metadata": {},
   "outputs": [
    {
     "name": "stdout",
     "output_type": "stream",
     "text": [
      "{'0': 338, '1': 686}\n"
     ]
    }
   ],
   "source": [
    "q_ckt.measure(0,0)\n",
    "result =   execute(q_ckt, Aer.backends(name='qasm_simulator')[0]).result()\n",
    "print(result.get_counts())\n"
   ]
  },
  {
   "cell_type": "code",
   "execution_count": 8,
   "id": "cfab769b",
   "metadata": {},
   "outputs": [
    {
     "data": {
      "text/html": [
       "<pre style=\"word-wrap: normal;white-space: pre;background: #fff0;line-height: 1.1;font-family: &quot;Courier New&quot;,Courier,monospace\">     ┌───┐┌───┐┌───┐┌───┐┌───┐┌───┐┌─────────┐┌─────────┐┌─────────┐┌─┐\n",
       "  q: ┤ X ├┤ H ├┤ Y ├┤ Z ├┤ S ├┤ S ├┤ Rx(π/3) ├┤ Ry(π/8) ├┤ Rz(π/6) ├┤M├\n",
       "     └───┘└───┘└───┘└───┘└───┘└───┘└─────────┘└─────────┘└─────────┘└╥┘\n",
       "c: 1/════════════════════════════════════════════════════════════════╩═\n",
       "                                                                     0 </pre>"
      ],
      "text/plain": [
       "     ┌───┐┌───┐┌───┐┌───┐┌───┐┌───┐┌─────────┐┌─────────┐┌─────────┐┌─┐\n",
       "  q: ┤ X ├┤ H ├┤ Y ├┤ Z ├┤ S ├┤ S ├┤ Rx(π/3) ├┤ Ry(π/8) ├┤ Rz(π/6) ├┤M├\n",
       "     └───┘└───┘└───┘└───┘└───┘└───┘└─────────┘└─────────┘└─────────┘└╥┘\n",
       "c: 1/════════════════════════════════════════════════════════════════╩═\n",
       "                                                                     0 "
      ]
     },
     "execution_count": 8,
     "metadata": {},
     "output_type": "execute_result"
    }
   ],
   "source": [
    "q_ckt.draw()"
   ]
  },
  {
   "cell_type": "code",
   "execution_count": null,
   "id": "28a21068",
   "metadata": {},
   "outputs": [],
   "source": [
    "\n"
   ]
  },
  {
   "cell_type": "code",
   "execution_count": null,
   "id": "f643f30e",
   "metadata": {},
   "outputs": [],
   "source": []
  }
 ],
 "metadata": {
  "kernelspec": {
   "display_name": "Python 3 (ipykernel)",
   "language": "python",
   "name": "python3"
  },
  "language_info": {
   "codemirror_mode": {
    "name": "ipython",
    "version": 3
   },
   "file_extension": ".py",
   "mimetype": "text/x-python",
   "name": "python",
   "nbconvert_exporter": "python",
   "pygments_lexer": "ipython3",
   "version": "3.10.9"
  }
 },
 "nbformat": 4,
 "nbformat_minor": 5
}
